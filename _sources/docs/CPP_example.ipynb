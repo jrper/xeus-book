{
 "cells": [
  {
   "cell_type": "markdown",
   "id": "31d69c2c",
   "metadata": {},
   "source": [
    "# A C++ Jupyter book\n",
    "\n",
    "We combine the Jupyter Book and Xeus-Cling projects to make an executable jupyter book project. "
   ]
  },
  {
   "cell_type": "code",
   "execution_count": 2,
   "id": "6411698f",
   "metadata": {},
   "outputs": [
    {
     "name": "stdout",
     "output_type": "stream",
     "text": [
      "Hello World!\n"
     ]
    }
   ],
   "source": [
    "#include <iostream>\n",
    "\n",
    "std::cout << \"Hello World! I'm using Xeus and Cling!\\n\";"
   ]
  },
  {
   "cell_type": "code",
   "execution_count": null,
   "id": "e3848052",
   "metadata": {},
   "outputs": [],
   "source": []
  }
 ],
 "metadata": {
  "kernelspec": {
   "display_name": "C++14",
   "language": "C++14",
   "name": "xcpp14"
  },
  "language_info": {
   "codemirror_mode": "text/x-c++src",
   "file_extension": ".cpp",
   "mimetype": "text/x-c++src",
   "name": "c++",
   "version": "14"
  }
 },
 "nbformat": 4,
 "nbformat_minor": 5
}
